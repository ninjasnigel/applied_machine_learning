# THIS IS SUPPOSED TO BE A .py FILE BUT THE SUBMISSION DID NOT ALLOW FOR THEM SO IT IS A .IPYNB !!!!!!!!

# This function evaluates a string
def eval_string(string):
    import keras
    model = keras.models.load_model('resturant_classifier.h5')
    return model.predict(string)

# This code can be imporved so that it can evaluate a list of strings
def main():
    try:
        if sys.argv[1]:
            print(eval_string(sys.argv[1]))
    except:
        print("Please enter a string to evaluate")
    
if __name__ == '__main__':
    import sys
    main()
