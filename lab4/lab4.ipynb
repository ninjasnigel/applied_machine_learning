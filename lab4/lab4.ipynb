{
 "cells": [
  {
   "attachments": {},
   "cell_type": "markdown",
   "metadata": {},
   "source": [
    "Made by -----> David Laessker - Peter Fagrell <------"
   ]
  },
  {
   "cell_type": "code",
   "execution_count": null,
   "metadata": {},
   "outputs": [],
   "source": [
    "import time\n",
    "from sklearn.feature_extraction.text import TfidfVectorizer\n",
    "from sklearn.preprocessing import Normalizer\n",
    "from sklearn.pipeline import make_pipeline\n",
    "from sklearn.feature_selection import SelectKBest\n",
    "from sklearn.metrics import accuracy_score\n",
    "from sklearn.model_selection import train_test_split\n",
    "import numpy as np\n",
    "from sklearn.base import BaseEstimator\n",
    "from aml_perceptron import Perceptron, SparsePerceptron"
   ]
  },
  {
   "attachments": {},
   "cell_type": "markdown",
   "metadata": {},
   "source": [
    "Our implemetation"
   ]
  },
  {
   "cell_type": "code",
   "execution_count": 3,
   "metadata": {},
   "outputs": [
    {
     "ename": "NameError",
     "evalue": "name 'BaseEstimator' is not defined",
     "output_type": "error",
     "traceback": [
      "\u001b[1;31m---------------------------------------------------------------------------\u001b[0m",
      "\u001b[1;31mNameError\u001b[0m                                 Traceback (most recent call last)",
      "Cell \u001b[1;32mIn[3], line 1\u001b[0m\n\u001b[1;32m----> 1\u001b[0m \u001b[39mclass\u001b[39;00m \u001b[39mPegasos\u001b[39;00m(BaseEstimator):\n\u001b[0;32m      2\u001b[0m \u001b[39m    \u001b[39m\u001b[39m\"\"\"\u001b[39;00m\n\u001b[0;32m      3\u001b[0m \u001b[39m    Implementation of the Pegasos algorithm for SVMs.\u001b[39;00m\n\u001b[0;32m      4\u001b[0m \u001b[39m    \"\"\"\u001b[39;00m\n\u001b[0;32m      6\u001b[0m     \u001b[39mdef\u001b[39;00m \u001b[39m__init__\u001b[39m(\u001b[39mself\u001b[39m, lambda_reg\u001b[39m=\u001b[39m\u001b[39m0.1\u001b[39m, max_epochs\u001b[39m=\u001b[39m\u001b[39m100\u001b[39m, random_seed\u001b[39m=\u001b[39m\u001b[39m1\u001b[39m):\n",
      "\u001b[1;31mNameError\u001b[0m: name 'BaseEstimator' is not defined"
     ]
    }
   ],
   "source": [
    "class Pegasos(BaseEstimator):\n",
    "    \"\"\"\n",
    "    Implementation of the Pegasos algorithm for SVMs.\n",
    "    \"\"\"\n",
    "\n",
    "    def __init__(self, lambda_reg=0.1, max_epochs=100, random_seed=1):\n",
    "        \"\"\"\n",
    "        Constructor. The Pegasos algorithm has three parameters:\n",
    "        lambda_reg: the regularization constant\n",
    "        max_epochs: the maximum number of epochs to run\n",
    "        random_seed: the random seed to use for the random number generator\n",
    "        \"\"\"\n",
    "        self.lambda_reg = lambda_reg\n",
    "        self.max_epochs = max_epochs\n",
    "        self.random_seed = random_seed\n",
    "\n",
    "    def fit(self, X, Y):\n",
    "        \"\"\"\n",
    "        Fit the model using the training data.\n",
    "        \"\"\"\n",
    "        # First encode the outputs as +1 and -1\n",
    "        self.find_classes(Y)\n",
    "        Y_encoded = self.encode_outputs(Y)\n",
    "\n",
    "        # Initialize the weights\n",
    "        self.random_state = np.random.RandomState(self.random_seed)\n",
    "        self.w = self.random_state.normal(0, 1, X.shape[1])\n",
    "\n",
    "        # Run the main training loop\n",
    "        for epoch in range(self.max_epochs):\n",
    "            # In each epoch, we'll iterate over the instances in X in a random order\n",
    "            # (note that we are using the random_state that we initialized in the\n",
    "            # constructor, so we'll get the same order every time we run this code).\n",
    "            for i in self.random_state.permutation(X.shape[0]):\n",
    "                # Compute the output score for this instance.\n",
    "                score = X[i].dot(self.w)\n",
    "\n",
    "                # If the sign of the score does not match the sign of the label,\n",
    "                # we have a mistake. Update the weights accordingly.\n",
    "                if Y_encoded[i]*score < 1:\n",
    "                    self.w += self.lambda_reg * Y_encoded[i] * X[i]"
   ]
  },
  {
   "attachments": {},
   "cell_type": "markdown",
   "metadata": {},
   "source": [
    "Make class"
   ]
  },
  {
   "cell_type": "code",
   "execution_count": null,
   "metadata": {},
   "outputs": [],
   "source": [
    "class Perceptron(LinearClassifier):\n",
    "    \"\"\"\n",
    "    A straightforward implementation of the perceptron learning algorithm.\n",
    "    \"\"\"\n",
    "\n",
    "    def __init__(self, n_iter=20):\n",
    "        \"\"\"\n",
    "        The constructor can optionally take a parameter n_iter specifying how\n",
    "        many times we want to iterate through the training set.\n",
    "        \"\"\"\n",
    "        self.n_iter = n_iter\n",
    "\n",
    "    def fit(self, X, Y):\n",
    "        \"\"\"\n",
    "        Train a linear classifier using the perceptron learning algorithm.\n",
    "        \"\"\"\n",
    "\n",
    "        # First determine which output class will be associated with positive\n",
    "        # and negative scores, respectively.\n",
    "        self.find_classes(Y)\n",
    "\n",
    "        # Convert all outputs to +1 (for the positive class) or -1 (negative).\n",
    "        Ye = self.encode_outputs(Y)\n",
    "\n",
    "        # If necessary, convert the sparse matrix returned by a vectorizer\n",
    "        # into a normal NumPy matrix.\n",
    "        if not isinstance(X, np.ndarray):\n",
    "            X = X.toarray()\n",
    "\n",
    "        # Initialize the weight vector to all zeros.\n",
    "        n_features = X.shape[1]\n",
    "        self.w = np.zeros(n_features)\n",
    "\n",
    "        # Perceptron algorithm:\n",
    "        for i in range(self.n_iter):\n",
    "            for x, y in zip(X, Ye):\n",
    "\n",
    "                # Compute the output score for this instance.\n",
    "                score = x.dot(self.w)\n",
    "\n",
    "                # If there was an error, update the weights.\n",
    "                if y*score <= 0:\n",
    "                    self.w += y*x\n",
    "\n"
   ]
  }
 ],
 "metadata": {
  "kernelspec": {
   "display_name": "Python 3",
   "language": "python",
   "name": "python3"
  },
  "language_info": {
   "codemirror_mode": {
    "name": "ipython",
    "version": 3
   },
   "file_extension": ".py",
   "mimetype": "text/x-python",
   "name": "python",
   "nbconvert_exporter": "python",
   "pygments_lexer": "ipython3",
   "version": "3.10.6"
  },
  "orig_nbformat": 4
 },
 "nbformat": 4,
 "nbformat_minor": 2
}
